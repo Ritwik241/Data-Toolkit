{
  "nbformat": 4,
  "nbformat_minor": 0,
  "metadata": {
    "colab": {
      "provenance": []
    },
    "kernelspec": {
      "name": "python3",
      "display_name": "Python 3"
    },
    "language_info": {
      "name": "python"
    }
  },
  "cells": [
    {
      "cell_type": "markdown",
      "source": [
        "#Data Toolkit"
      ],
      "metadata": {
        "id": "pA1hEzMbl7Na"
      }
    },
    {
      "cell_type": "markdown",
      "source": [
        "#1. What is NumPy, and why is it widely used in Python?\n",
        "\n",
        " - ChatGPT said:\n",
        "NumPy (Numerical Python) is a powerful library in Python that provides support for large, multi-dimensional arrays and matrices, along with a collection of mathematical functions to operate on these arrays. It's a fundamental package for scientific computing and is widely used in fields like data science, machine learning, physics, and engineering.\n",
        "\n",
        "Here are a few key reasons why NumPy is so widely used:\n",
        "\n",
        "1. Efficient Array Handling:\n",
        "\n",
        "Arrays: NumPy introduces the ndarray object, which is much more efficient than Python’s built-in list when it comes to storing and manipulating large datasets. It allows for operations on whole arrays at once, without the need for explicit loops.\n",
        "\n",
        "Performance: NumPy arrays are stored in contiguous blocks of memory, which makes them faster for computation compared to Python lists. They also support element-wise operations, meaning you can perform mathematical operations on entire arrays without the need for manual looping.\n",
        "\n",
        "2. Mathematical Functions:\n",
        "\n",
        "NumPy provides a wide range of mathematical functions, such as trigonometric, logarithmic, and statistical operations, making it easy to apply these operations on large datasets.\n",
        "\n",
        "Broadcasting: This is a feature that allows NumPy to perform operations on arrays of different shapes and sizes, which adds flexibility to array operations.\n",
        "\n",
        "3. Integration with Other Libraries:\n",
        "\n",
        "Many popular Python libraries, including Pandas, SciPy, TensorFlow, and Matplotlib, rely on NumPy for array handling, making it the foundation for many scientific and data-centric applications.\n",
        "\n",
        "4. Memory Efficiency:\n",
        "\n",
        "NumPy arrays are more memory-efficient than Python lists. Since they are of fixed size and type, they consume less memory and are faster to access.\n",
        "\n",
        "5. Multi-Dimensional Arrays:\n",
        "\n",
        "NumPy allows for the creation and manipulation of multi-dimensional arrays (matrices, tensors, etc.), which is essential for many scientific and engineering applications. This allows for operations in more than one dimension, such as matrix multiplication, element-wise operations, and reshaping arrays.\n",
        "\n",
        "6. Interoperability:\n",
        "\n",
        "NumPy can be easily integrated with other languages like C, C++, and Fortran, allowing for high-performance computing in Python.\n",
        "\n",
        "7. Random Number Generation:\n",
        "\n",
        "NumPy has a comprehensive suite of tools for generating random numbers, which is essential for tasks such as simulations, machine learning, and statistical modeling."
      ],
      "metadata": {
        "id": "1qYG5gW8mCJN"
      }
    },
    {
      "cell_type": "markdown",
      "source": [
        "#2.How does broadcasting work in NumPy?\n",
        "\n",
        " - Broadcasting in NumPy is a powerful feature that allows NumPy to perform operations on arrays of different shapes and sizes in a way that would otherwise require explicit loops. It automatically \"stretches\" the smaller array to match the dimensions of the larger array, making array operations more efficient.\n",
        "\n",
        "How Broadcasting Works\n",
        "\n",
        "When performing operations between two arrays, NumPy compares their shapes element by element, and if the dimensions of the arrays are not compatible, broadcasting rules apply to make the shapes compatible. These rules help NumPy determine how to apply the operation element-wise across both arrays.\n",
        "\n",
        "Broadcasting Rules\n",
        "\n",
        "For broadcasting to work, NumPy follows these rules:\n",
        "\n",
        "If the arrays have a different number of dimensions, pad the smaller array's shape with ones on the left side until both shapes have the same length.\n",
        "\n",
        "Compare the dimensions of the arrays element-wise, starting from the rightmost dimension:\n",
        "\n",
        "The dimensions are compatible if they are equal, or if one of them is 1.\n",
        "\n",
        "If the dimensions are not equal, broadcasting cannot be performed.\n",
        "\n",
        "Stretching: If one array has a dimension with size 1, it is \"stretched\" to match the size of the corresponding dimension of the other array. This stretching does not involve copying data but is a logical extension of the smaller array."
      ],
      "metadata": {
        "id": "hG7pOFSzmegb"
      }
    },
    {
      "cell_type": "markdown",
      "source": [
        "#3.What is a Pandas DataFrame?\n",
        "\n",
        " - A Pandas DataFrame is a two-dimensional, size-mutable, and potentially heterogeneous tabular data structure, which is a part of the Pandas library in Python. It is one of the most commonly used structures in data manipulation and analysis because it provides an easy and powerful way to handle structured data."
      ],
      "metadata": {
        "id": "Cfh2sL8Qm1iR"
      }
    },
    {
      "cell_type": "markdown",
      "source": [
        "#4.  Explain the use of the groupby() method in Pandas.\n",
        "\n",
        "  -The groupby() method in Pandas is a powerful tool used for splitting data into groups based on some criteria, applying a function to each group, and then combining the results back into a DataFrame. This is a common operation in data analysis, as it allows you to perform operations like aggregation, transformation, and filtering on subsets of your data.\n",
        "\n",
        "How groupby() Works\n",
        "\n",
        "The groupby() method works by splitting the data into groups based on one or more columns, applying a function to each group, and then combining the results.\n",
        "\n",
        "The general process is:\n",
        "\n",
        "Splitting: The data is split into groups based on the values in one or more columns (or other criteria, such as indices).\n",
        "\n",
        "Applying: A function (such as aggregation or transformation) is applied to each group separately.\n",
        "\n",
        "Combining: The results of the function are combined back into a DataFrame or Series."
      ],
      "metadata": {
        "id": "FJ04zj_GnQwo"
      }
    },
    {
      "cell_type": "markdown",
      "source": [
        "#5.Why is Seaborn preferred for statistical visualizations?\n",
        "\n",
        "  - Seaborn is a Python data visualization library that is built on top of Matplotlib and is specifically designed for statistical visualizations. It is widely preferred for statistical visualizations due to several key features that make it highly suitable for data exploration, presentation, and statistical analysis.\n",
        "\n",
        "Key Reasons Why Seaborn is Preferred for Statistical Visualizations:\n",
        "\n",
        "1. Simpler and More Concise Syntax\n",
        "\n",
        "Seaborn offers a higher-level interface than Matplotlib, meaning that you can create complex visualizations with less code. This simplifies the process of creating statistical plots. For example, in Seaborn, you can create a violin plot or a box plot with just a single line of code.\n",
        "\n",
        "2. Integration with Pandas\n",
        "\n",
        "Seaborn is designed to work seamlessly with Pandas DataFrames, which is the standard data structure used in data analysis. This integration allows you to directly pass DataFrames into Seaborn's plotting functions, making the process of visualizing your data more intuitive and efficient.\n",
        "\n",
        "3. Statistical Plotting Capabilities\n",
        "\n",
        "Seaborn is specifically designed to make statistical plotting easy. It provides a range of statistical plots that are often used in data analysis, including:\n",
        "\n",
        "Distribution plots (distplot, kdeplot)\n",
        "\n",
        "Correlation plots (heatmap)\n",
        "\n",
        "Categorical plots (boxplot, violinplot, stripplot, barplot, pointplot)\n",
        "\n",
        "Regression plots (regplot, lmplot)\n",
        "\n",
        "4. Automatic Handling of Aesthetics and Statistical Details\n",
        "\n",
        "Seaborn automatically applies aesthetically pleasing default styles to visualizations, making the plots more polished and easier to interpret without requiring manual customization. It handles things like axis labels, titles, and legend placement automatically, allowing you to focus more on the data and analysis rather than tweaking the visual appearance.\n",
        "\n",
        "Seaborn also provides built-in options for adding statistical elements, like regression lines or confidence intervals, without needing additional code.\n",
        "\n",
        "5. Support for Multivariate Visualizations\n",
        "\n",
        "Seaborn excels at visualizing relationships between multiple variables. It supports pairwise visualizations (e.g., pair plots) and plots that display relationships between multiple variables simultaneously, such as heatmaps for correlation matrices or facet grids for categorical variables."
      ],
      "metadata": {
        "id": "_eb6ZEQEoFTt"
      }
    },
    {
      "cell_type": "markdown",
      "source": [
        "#6. What are the differences between NumPy arrays and Python lists?\n",
        "\n",
        "  -NumPy arrays and Python lists are both data structures used to store collections of items, but they have several key differences that make NumPy arrays more suitable for numerical and scientific computing tasks, while Python lists are more general-purpose. Here’s a breakdown of their key differences:\n",
        "\n",
        "1. Type of Data Stored\n",
        "\n",
        "Python Lists: Can store elements of different types. A list can contain integers, floats, strings, and even other lists (heterogeneous data).\n",
        "\n",
        "2. Performance and Speed\n",
        "\n",
        "Python Lists: Lists are general-purpose containers and are slower for numerical computations because of their flexibility and the overhead of handling different types of data.\n",
        "\n",
        "NumPy Arrays: NumPy arrays are optimized for performance. They are implemented in C, which allows for fast operations on large datasets. NumPy operations are vectorized, meaning they are implemented at a low level and avoid Python loops for mathematical operations, which significantly speeds up computation.\n",
        "\n",
        "3. Memory Efficiency\n",
        "\n",
        "Python Lists: Lists are not memory-efficient for large datasets because they store each item as a separate object. Additionally, since they support heterogeneous data, more memory is needed for managing the type information for each element.\n",
        "\n",
        "NumPy Arrays: NumPy arrays are more memory-efficient because they store elements as contiguous blocks of memory and require less overhead compared to Python lists. This is because NumPy arrays are designed to hold homogeneous data types and use a more compact memory representation.\n",
        "\n",
        "4. Operations and Element-wise Operations\n",
        "\n",
        "Python Lists: Python lists do not support element-wise operations out of the box. To perform operations like addition or multiplication, you would need to manually loop through the list or use a list comprehension.\n",
        "\n",
        "5. Size and Shape\n",
        "\n",
        "Python Lists: Lists are 1-dimensional by default, and while they can contain other lists (making them effectively 2D or higher), there is no inherent structure to the data.\n",
        "\n",
        "6. Indexing and Slicing\n",
        "Python Lists: Lists allow basic indexing and slicing, but it may become cumbersome when dealing with multidimensional data (lists of lists, etc.).\n",
        "\n",
        "\n"
      ],
      "metadata": {
        "id": "bGq6RIxoogeg"
      }
    },
    {
      "cell_type": "markdown",
      "source": [
        "#7. What is a heatmap, and when should it be used?\n",
        "\n",
        " - A heatmap displays data in a matrix format, where each cell's color intensity corresponds to a specific value. Typically, warmer colors (like red or orange) indicate higher values, while cooler colors (like blue or green) represent lower values. This visual representation helps in quickly grasping complex data relationships.\n",
        "\n",
        "  When Should You Use a Heatmap?\n",
        "Heatmaps are valuable in various scenarios:\n",
        "\n",
        "Identifying Patterns or Trends: Quickly spot correlations, patterns, or anomalies in your data.\n",
        "\n",
        "\n",
        "Analyzing User Behavior: Understand how users interact with your website, such as where they click, how far they scroll, or where they hover.\n",
        "\n",
        "Visualizing Complex Data: Represent large datasets, like correlation matrices, to identify relationships between variables.\n",
        "\n",
        "\n",
        "Geographical Data Representation: Show the intensity of data points across a geographical area, useful in urban planning and environmental studies"
      ],
      "metadata": {
        "id": "K95TMvCCpaZ4"
      }
    },
    {
      "cell_type": "markdown",
      "source": [
        "#8. What does the term “vectorized operation” mean in NumPy?\n",
        "\n",
        " - Vectorization allows you to apply operations to entire arrays or matrices in a single step. Instead of iterating over elements with loops, NumPy performs the operation on all elements simultaneously, utilizing optimized C code under the hood. This not only simplifies code but also significantly enhances performance, especially with large datasets."
      ],
      "metadata": {
        "id": "qFY0QSWVqDSZ"
      }
    },
    {
      "cell_type": "markdown",
      "source": [
        "#9. How does Matplotlib differ from Plotly?\n",
        "\n",
        " -Matplotlib and Plotly are both powerful Python libraries for data visualization, each with its unique strengths and ideal use cases. Here's a detailed comparison to help you choose the right tool for your needs"
      ],
      "metadata": {
        "id": "Yn7Y55e-qSLF"
      }
    },
    {
      "cell_type": "markdown",
      "source": [
        "#10.What is the significance of hierarchical indexing in Pandas?\n",
        "\n",
        " - In Pandas, hierarchical indexing—also known as MultiIndex—enables you to represent and manipulate data with multiple dimensions within a two-dimensional structure. This feature is particularly useful for organizing complex datasets and performing advanced data analysis"
      ],
      "metadata": {
        "id": "ffpyMHpQqjMw"
      }
    },
    {
      "cell_type": "markdown",
      "source": [
        "#11.What is the role of Seaborn’s pairplot() function?\n",
        "\n",
        " - seaborn.pairplot() creates a matrix of scatter plots (pairwise plots) that display relationships between multiple variables in a dataset. Each plot shows how two variables relate to each other, while the diagonal plots display univariate distributions (e.g., histograms or kernel density estimates) of each variable.\n",
        "\n",
        "  Key Features\n",
        "  \n",
        "Pairwise Scatter Plots: Displays scatter plots for each pair of variables, helping to identify correlations and relationships.\n",
        "\n",
        "Univariate Distributions: The diagonal plots show the distribution of each variable, providing insights into their individual characteristics.\n",
        "TutorialsPoint\n",
        "+1\n",
        "Analytics Vidhya\n",
        "+1\n",
        "\n",
        "Color-Coding with hue: Allows for grouping data points by a categorical variable, using color to distinguish between different groups.\n",
        "\n",
        "Customization Options: Offers various parameters to customize the appearance and behavior of the plots, such as kind for plot types, palette for color schemes, and height for figure size."
      ],
      "metadata": {
        "id": "QMhpD9q_q0QD"
      }
    },
    {
      "cell_type": "markdown",
      "source": [
        "#12.What is the purpose of the describe() function in Pandas?\n",
        "\n",
        " - The describe() method computes and returns descriptive statistics for each numerical column in a DataFrame, excluding NaN values. By default, it calculates the following metrics:\n",
        "\n",
        "count: Number of non-null entries.\n",
        "\n",
        "mean: Average value.\n",
        "\n",
        "std: Standard deviation, indicating data spread.\n",
        "\n",
        "min: Minimum value.\n",
        "\n",
        "25%: First quartile (25th percentile).\n",
        "\n",
        "50%: Median or second quartile (50th percentile).\n",
        "\n",
        "75%: Third quartile (75th percentile).\n",
        "\n",
        "max: Maximum value."
      ],
      "metadata": {
        "id": "97ZTEthjrMZH"
      }
    },
    {
      "cell_type": "markdown",
      "source": [
        "#13.Why is handling missing data important in Pandas?\n",
        "\n",
        " - Handling missing data is a critical aspect of data analysis in Pandas, as it directly impacts the quality, accuracy, and reliability of your analyses and models.\n",
        "\n",
        " Why Handling Missing Data Is Important\n",
        "\n",
        "Ensures Accurate Calculations\n",
        "\n",
        "Operations like mean, median, and standard deviation can be distorted by missing values, leading to misleading conclusions. For instance, calculating the average score of students with missing data would not accurately reflect the overall performance.\n",
        "\n",
        "Prevents Errors in Machine Learning Models\n",
        "\n",
        "Many machine learning algorithms cannot handle missing values and will raise errors or produce biased results if they encounter them. Properly addressing missing data ensures that models are trained on clean, complete datasets.\n",
        "\n",
        "Improves Data Integrity\n",
        "\n",
        "Unaddressed missing data can lead to inconsistencies and inaccuracies in your dataset, compromising the integrity of your analysis. By handling missing values appropriately, you maintain the reliability of your data.\n",
        "\n",
        "Enhances Statistical Validity\n",
        "\n",
        "Ignoring missing data can introduce bias, especially if the missingness is not random. For example, if higher-income individuals are less likely to report their income, excluding these records can skew the analysis."
      ],
      "metadata": {
        "id": "ASfCaIilrkut"
      }
    },
    {
      "cell_type": "markdown",
      "source": [
        "#14. What are the benefits of using Plotly for data visualization?\n",
        "\n",
        " - Plotly is a powerful Python library for creating interactive, web-ready data visualizations. It offers several advantages that make it a preferred choice for data scientists, analysts, and developers\n",
        "\n",
        "\n",
        "  Key Benefits of Using Plotly\n",
        "1. Interactive Visualizations by Default\n",
        "Plotly automatically adds interactivity to charts, including zooming, panning, tooltips, and hover effects. This allows users to explore data dynamically without additional coding .\n",
        "Stackademic\n",
        "+1\n",
        "Medium\n",
        "+1\n",
        "GeeksforGeeks\n",
        "\n",
        "2. Wide Range of Plot Types\n",
        "Plotly supports a diverse array of chart types, such as:\n",
        "\n",
        "Line, bar, scatter, pie, and bubble charts\n",
        "\n",
        "3D surface and mesh plots\n",
        "\n",
        "Heatmaps, contour plots, and choropleth maps\n",
        "\n",
        "Specialized charts like Sankey diagrams, sunburst plots, and radar charts\n",
        "This versatility makes it suitable for various applications, from simple visualizations to complex data storytelling .\n",
        "\n",
        "3. Seamless Integration with Dash\n",
        "Plotly integrates effortlessly with Dash, a Python framework for building analytical web applications. This combination enables the creation of interactive dashboards and data apps using pure Python code .\n",
        "\n",
        "4. High-Quality Aesthetics\n",
        "Plotly's charts are polished and visually appealing out of the box, minimizing the need for extensive customization to achieve professional-quality graphics .\n",
        "\n",
        "\n",
        "5. Easy Export and Sharing\n",
        "Visualizations can be exported as static images (e.g., PNG, JPEG) or interactive HTML files, facilitating easy sharing and embedding in reports or web applications .\n",
        "\n",
        "\n",
        "6. Open-Source and Extensible\n",
        "Plotly is open-source, with a comprehensive API that allows for extensive customization and extension. This openness fosters a robust community contributing to its continuous improvement ."
      ],
      "metadata": {
        "id": "MQ_-h5Fbr6sQ"
      }
    },
    {
      "cell_type": "markdown",
      "source": [
        "#15. How does NumPy handle multidimensional arrays?\n",
        "\n",
        " - NumPy's handling of multidimensional arrays is central to its role in numerical computing, offering a powerful and efficient framework for managing and manipulating large datasets.\n",
        "\n",
        " Understanding NumPy's Multidimensional Arrays\n",
        "\n",
        "At the core of NumPy is the ndarray (N-dimensional array), a homogeneous, fixed-size container that holds elements of the same type. Each ndarray is characterized by:\n",
        "\n",
        "Shape: A tuple indicating the size of the array along each dimension.\n",
        "\n",
        "Data Type (dtype): Specifies the type of elements (e.g., int32, float64).\n",
        "\n",
        "Strides: Defines the number of bytes to step in each dimension when traversing an array.\n"
      ],
      "metadata": {
        "id": "vJLaACaIsQo6"
      }
    },
    {
      "cell_type": "markdown",
      "source": [
        "#16. What is the role of Bokeh in data visualization?\n",
        "\n",
        " - Bokeh is a powerful Python library designed for creating interactive, web-ready visualizations. Unlike static plotting libraries such as Matplotlib, Bokeh enables the development of dynamic and engaging plots that can be embedded in modern web browsers, making it particularly suitable for building dashboards and data applications.\n",
        "\n"
      ],
      "metadata": {
        "id": "iY0FR2XjsrOt"
      }
    },
    {
      "cell_type": "markdown",
      "source": [
        "#17.  Explain the difference between apply() and map() in Pandas.\n",
        "\n",
        " - In Pandas, the apply() and map() functions are both used to apply functions to data structures, but they differ in their scope, usage, and flexibility. Here's a detailed comparison:\n",
        "\n",
        "map() — Element-wise Operations on Series\n",
        "\n",
        "Scope: Operates on a single Pandas Series (i.e., a single column).\n",
        "\n",
        "Functionality: Applies a function element-wise to each value in the Series.\n",
        "\n",
        "Input Types: Accepts a function, a dictionary, or a Series.\n",
        "\n",
        "Use Cases:\n",
        "\n",
        "Transforming or mapping values in a Series.\n",
        "\n",
        "Replacing values using a dictionary or Series.\n",
        "\n",
        "apply() — Row/Column-wise Operations on DataFrames or Series\n",
        "\n",
        "Scope: Can be used on both Pandas Series and DataFrames.\n",
        "\n",
        "Functionality:\n",
        "\n",
        "For Series: Applies a function element-wise.\n",
        "\n",
        "For DataFrames: Applies a function along an axis (rows or columns).\n",
        "\n",
        "Input Types: Accepts a function.\n",
        "\n",
        "Use Cases:\n",
        "\n",
        "Performing operations across rows or columns in a DataFrame.\n",
        "\n",
        "Applying complex functions that require access to multiple columns or rows.\n",
        "\n",
        "\n"
      ],
      "metadata": {
        "id": "zTkbl707s2UQ"
      }
    },
    {
      "cell_type": "markdown",
      "source": [
        "#18. What are some advanced features of NumPy?\n",
        "\n",
        " - NumPy is a cornerstone of scientific computing in Python, offering a vast array of advanced features that enhance performance, flexibility, and ease of use. Here's an overview of some of its most powerful capabilities:\n",
        "\n",
        "1. Broadcasting\n",
        "\n",
        "Broadcasting allows NumPy to perform element-wise operations on arrays of different shapes without explicit reshaping. It automatically expands the smaller array to match the dimensions of the larger one, enabling efficient computations. This feature is particularly useful in mathematical and logical operations.\n",
        "Medium\n",
        "\n",
        " 2. Universal Functions (ufuncs)\n",
        "Universal functions, or ufuncs, are functions that operate element-wise on ndarray objects. They support broadcasting, type casting, and several other standard features. Ufuncs are implemented in C, making them extremely fast. Examples include np.add, np.multiply, and trigonometric functions like np.sin.\n",
        "Fabien Maussion\n",
        "+3\n",
        "NumPy\n",
        "+3\n",
        "NumPy\n",
        "+3\n",
        "\n",
        " 3. Linear Algebra Operations\n",
        "\n",
        "NumPy provides a comprehensive suite of linear algebra functions, including:\n",
        "\n",
        "Matrix multiplication (np.matmul)\n",
        "\n",
        "Matrix decomposition (e.g., np.linalg.svd)\n",
        "\n",
        "Eigenvalue and eigenvector computation (np.linalg.eig)\n",
        "\n",
        "Solving linear systems (np.linalg.solve)\n",
        "\n",
        "These functions are optimized for performance and are essential for many scientific and engineering applications.\n",
        "LabEx\n",
        "\n",
        " 4. Random Number Generation\n",
        "\n",
        "NumPy's np.random module offers a suite of functions for generating random numbers, including:\n",
        "\n",
        "Random sampling from distributions (np.random.normal, np.random.uniform)\n",
        "\n",
        "Random permutations and shuffling (np.random.shuffle)\n",
        "\n",
        "Random integers (np.random.randint)"
      ],
      "metadata": {
        "id": "ZhmB1BtBtk2x"
      }
    },
    {
      "cell_type": "markdown",
      "source": [
        "#19. How does Pandas simplify time series analysis?\n",
        "\n",
        " - Pandas significantly simplifies time series analysis by providing a suite of powerful tools that streamline the handling, manipulation, and visualization of time-indexed data. Here's how it enhances the process.\n",
        "\n",
        " 1. Time-Based Indexing\n",
        "\n",
        "Pandas allows you to set a datetime column as the index of your DataFrame, enabling intuitive slicing and selection of data based on time ranges. For instance, you can easily extract data for a specific day or month using string-based indexing\n",
        "\n",
        "2. Resampling and Frequency Conversion\n",
        "\n",
        "Pandas provides the .resample() method to change the frequency of your time series data. You can upsample (increase frequency) or downsample (decrease frequency) data, applying aggregation functions like mean, sum, or median\n",
        "\n",
        "3. Rolling and Shifting Operations\n",
        "\n",
        "Pandas supports rolling window calculations and shifting operations, which are essential for smoothing data and calculating lag features\n",
        "\n",
        "4. 4. Time Series Decomposition\n",
        "\n",
        "Pandas facilitates the decomposition of time series data into trend, seasonal, and residual components. This is vital for understanding underlying patterns and for preparing data for modeling"
      ],
      "metadata": {
        "id": "J7QPrCFsuEzd"
      }
    },
    {
      "cell_type": "markdown",
      "source": [
        "#20.What is the role of a pivot table in Pandas?\n",
        "\n",
        " - In Pandas, a pivot table is a powerful tool that enables you to summarize, reorganize, and analyze data efficiently. It allows for transforming long-form data into a more readable and insightful format, similar to pivot tables in spreadsheet applications like Excel.\n",
        "\n",
        " What Is a Pivot Table in Pandas?\n",
        "\n",
        "A pivot table in Pandas is created using the pivot_table() function. This function groups data based on specified keys (rows and columns) and applies aggregation functions (like sum, mean, count) to provide a summarized view of the data. It's particularly useful"
      ],
      "metadata": {
        "id": "ciKEB1uiurUE"
      }
    },
    {
      "cell_type": "markdown",
      "source": [
        "#21.Why is NumPy’s array slicing faster than Python’s list slicing?\n",
        "\n",
        " - NumPy's array slicing is significantly faster than Python's list slicing due to several key architectural and implementation differences:\n",
        "\n",
        "1. Contiguous Memory Allocation\n",
        "NumPy arrays store elements of the same data type in contiguous memory blocks. This layout allows for efficient memory access and better cache utilization, leading to faster computations. In contrast, Python lists are arrays of pointers to objects, which can be scattered throughout memory, causing slower access times due to cache misses.\n",
        "\n",
        "2. Homogeneous Data Types\n",
        "\n",
        "All elements in a NumPy array are of the same data type, enabling optimized operations at the hardware level. Python lists can contain elements of varying data types, requiring additional type checking during operations, which adds overhead and slows down performance.\n",
        "\n",
        "3. Slicing Returns Views, Not Copies\n",
        "\n",
        "When you slice a NumPy array, it returns a view of the original data without copying it. This approach conserves memory and accelerates operations. In contrast, slicing a Python list creates a new list and copies the data, which is more time-consuming and memory-intensive.\n",
        "\n",
        "\n",
        "4. Optimized C Backend\n",
        "\n",
        "NumPy is implemented in C, allowing it to execute operations at compiled speeds. This low-level implementation reduces the overhead associated with Python's interpreted nature, resulting in faster execution of array operations, including slicing.\n",
        "\n",
        "5. Efficient Memory Access Patterns\n",
        "\n",
        "Due to their contiguous memory layout and homogeneous data types, NumPy arrays enable efficient memory access patterns. This efficiency is particularly beneficial for large-scale numerical computations, where performance gains are more pronounced.\n",
        "\n"
      ],
      "metadata": {
        "id": "AzbYxM6mvBW_"
      }
    },
    {
      "cell_type": "markdown",
      "source": [
        "#22.What are some common use cases for Seaborn?\n",
        "Seaborn is a powerful Python data visualization library built on top of Matplotlib. It provides a high-level interface for creating attractive and informative statistical graphics. Seaborn is particularly well-suited for visualizing complex datasets and exploring relationships between variables. Here are some common use cases."
      ],
      "metadata": {
        "id": "KBdDvNNcve9f"
      }
    },
    {
      "cell_type": "markdown",
      "source": [
        "#Practical"
      ],
      "metadata": {
        "id": "dN3dcypnvoPi"
      }
    },
    {
      "cell_type": "markdown",
      "source": [
        "#1. How do you create a 2D NumPy array and calculate the sum of each row?\n",
        "\n"
      ],
      "metadata": {
        "id": "fT7aNjrhvv8y"
      }
    },
    {
      "cell_type": "code",
      "source": [
        "import numpy as np\n",
        "\n",
        "# Create a 2D NumPy array\n",
        "arr = np.array([[1, 2, 3],\n",
        "                [4, 5, 6],\n",
        "                [7, 8, 9]])\n",
        "\n",
        "# Calculate the sum of each row\n",
        "row_sums = np.sum(arr, axis=1)\n",
        "\n",
        "print(\"Row sums:\", row_sums)\n"
      ],
      "metadata": {
        "colab": {
          "base_uri": "https://localhost:8080/"
        },
        "id": "L-MqMutFv5ra",
        "outputId": "8e23ed96-74e2-467b-dc78-c323f9dd3d97"
      },
      "execution_count": 1,
      "outputs": [
        {
          "output_type": "stream",
          "name": "stdout",
          "text": [
            "Row sums: [ 6 15 24]\n"
          ]
        }
      ]
    },
    {
      "cell_type": "markdown",
      "source": [
        "#2.Write a Pandas script to find the mean of a specific column in a DataFrame.\n"
      ],
      "metadata": {
        "id": "bdmC9jkTv8Iw"
      }
    },
    {
      "cell_type": "code",
      "source": [
        "import pandas as pd\n",
        "\n",
        "# Create a sample DataFrame\n",
        "data = {\n",
        "    'Name': ['Alice', 'Bob', 'Charlie', 'David'],\n",
        "    'Age': [25, 30, 35, 40],\n",
        "    'Salary': [50000, 60000, 70000, 80000]\n",
        "}\n",
        "\n",
        "df = pd.DataFrame(data)\n",
        "\n",
        "# Calculate the mean of the 'Salary' column\n",
        "mean_salary = df['Salary'].mean()\n",
        "\n",
        "print(\"Mean Salary:\", mean_salary)\n"
      ],
      "metadata": {
        "colab": {
          "base_uri": "https://localhost:8080/"
        },
        "id": "SM8dHXzuwGvx",
        "outputId": "1603820e-f47d-448e-f0d3-576d4463e66f"
      },
      "execution_count": 2,
      "outputs": [
        {
          "output_type": "stream",
          "name": "stdout",
          "text": [
            "Mean Salary: 65000.0\n"
          ]
        }
      ]
    },
    {
      "cell_type": "markdown",
      "source": [
        "#3.Create a scatter plot using Matplotlib.\n",
        "\n",
        ""
      ],
      "metadata": {
        "id": "7K-Cl-tfwKji"
      }
    },
    {
      "cell_type": "code",
      "source": [
        "import matplotlib.pyplot as plt\n",
        "import numpy as np\n",
        "\n",
        "# Sample data\n",
        "x = np.array([5, 7, 8, 7, 2, 17, 2, 9, 4, 11, 12, 9, 6])\n",
        "y = np.array([99, 86, 87, 88, 111, 86, 103, 87, 94, 78, 77, 85, 86])\n",
        "\n",
        "# Create scatter plot\n",
        "plt.scatter(x, y)\n",
        "\n",
        "# Add labels and title\n",
        "plt.xlabel(\"X-axis Label\")\n",
        "plt.ylabel(\"Y-axis Label\")\n",
        "plt.title(\"Simple Scatter Plot\")\n",
        "\n",
        "# Display the plot\n",
        "plt.show()\n"
      ],
      "metadata": {
        "colab": {
          "base_uri": "https://localhost:8080/",
          "height": 472
        },
        "id": "Qu-FqWj5wY0H",
        "outputId": "a2a9e9d8-38fa-434e-e926-42f0412ce748"
      },
      "execution_count": 3,
      "outputs": [
        {
          "output_type": "display_data",
          "data": {
            "text/plain": [
              "<Figure size 640x480 with 1 Axes>"
            ],
            "image/png": "[encoded data removed]"
          },
          "metadata": {}
        }
      ]
    },
    {
      "cell_type": "markdown",
      "source": [
        "#4. How do you calculate the correlation matrix using Seaborn and visualize it with a heatmap?\n",
        "\n"
      ],
      "metadata": {
        "id": "fFJcC83iwbcK"
      }
    },
    {
      "cell_type": "code",
      "source": [
        "import matplotlib.pyplot as plt\n",
        "import seaborn as sns\n",
        "import pandas as pd\n",
        "import numpy as np\n",
        "\n",
        "# Create a sample DataFrame (assuming this DataFrame is the source of the data for the heatmap)\n",
        "data = {\n",
        "    'Name': ['Alice', 'Bob', 'Charlie', 'David'],\n",
        "    'Age': [25, 30, 35, 40],\n",
        "    'Salary': [50000, 60000, 70000, 80000],\n",
        "    'Experience': [1, 5, 10, 15] # Added another numerical column for correlation\n",
        "}\n",
        "\n",
        "df = pd.DataFrame(data)\n",
        "\n",
        "# Calculate the correlation matrix (only for numerical columns)\n",
        "corr_matrix = df.corr(numeric_only=True)\n",
        "\n",
        "# Set the figure size\n",
        "plt.figure(figsize=(10, 8))\n",
        "\n",
        "# Create the heatmap\n",
        "sns.heatmap(corr_matrix, annot=True, cmap='coolwarm', center=0, linewidths=0.5)\n",
        "\n",
        "# Add a title\n",
        "plt.title('Correlation Matrix Heatmap')\n",
        "\n",
        "# Display the plot\n",
        "plt.show()\n"
      ],
      "metadata": {
        "colab": {
          "base_uri": "https://localhost:8080/",
          "height": 699
        },
        "id": "8w2QuAc-wnEu",
        "outputId": "d4c0cfff-928a-47f7-834f-88fc73d20eea"
      },
      "execution_count": 5,
      "outputs": [
        {
          "output_type": "display_data",
          "data": {
            "text/plain": [
              "<Figure size 1000x800 with 2 Axes>"
            ],
            "image/png": "[encoded data removed]"
          },
          "metadata": {}
        }
      ]
    },
    {
      "cell_type": "markdown",
      "source": [
        "#5. Generate a bar plot using Plotly."
      ],
      "metadata": {
        "id": "qS3MVEfdw7-J"
      }
    },
    {
      "cell_type": "code",
      "source": [
        "import plotly.graph_objects as go\n",
        "\n",
        "# Sample data\n",
        "fruits = ['Apples', 'Oranges', 'Bananas', 'Grapes']\n",
        "quantities = [10, 15, 7, 12]\n",
        "\n",
        "# Create bar chart\n",
        "fig = go.Figure(data=[go.Bar(x=fruits, y=quantities)])\n",
        "\n",
        "# Update layout\n",
        "fig.update_layout(title='Fruit Quantities', xaxis_title='Fruit', yaxis_title='Quantity')\n",
        "\n",
        "# Show plot\n",
        "fig.show()\n"
      ],
      "metadata": {
        "colab": {
          "base_uri": "https://localhost:8080/",
          "height": 542
        },
        "id": "X_uFNDAvxKDV",
        "outputId": "ff5b231b-cc1b-4831-96cf-a6900f90073e"
      },
      "execution_count": 6,
      "outputs": [
        {
          "output_type": "display_data",
          "data": {
            "text/html": [
              "<html>\n",
              "<head><meta charset=\"utf-8\" /></head>\n",
              "<body>\n",
              "    <div>            <script src=\"https://cdnjs.cloudflare.com/ajax/libs/mathjax/2.7.5/MathJax.js?config=TeX-AMS-MML_SVG\"></script><script type=\"text/javascript\">if (window.MathJax && window.MathJax.Hub && window.MathJax.Hub.Config) {window.MathJax.Hub.Config({SVG: {font: \"STIX-Web\"}});}</script>                <script type=\"text/javascript\">window.PlotlyConfig = {MathJaxConfig: 'local'};</script>\n",
              "        <script charset=\"utf-8\" src=\"https://cdn.plot.ly/plotly-2.35.2.min.js\"></script>                <div id=\"4cb7f285-9edb-481c-af14-192b8f41b8b5\" class=\"plotly-graph-div\" style=\"height:525px; width:100%;\"></div>            <script type=\"text/javascript\">                                    window.PLOTLYENV=window.PLOTLYENV || {};                                    if (document.getElementById(\"4cb7f285-9edb-481c-af14-192b8f41b8b5\")) {                    Plotly.newPlot(                        \"4cb7f285-9edb-481c-af14-192b8f41b8b5\",                        [{\"x\":[\"Apples\",\"Oranges\",\"Bananas\",\"Grapes\"],\"y\":[10,15,7,12],\"type\":\"bar\"}],                        {\"template\":{\"data\":{\"histogram2dcontour\":[{\"type\":\"histogram2dcontour\",\"colorbar\":{\"outlinewidth\":0,\"ticks\":\"\"},\"colorscale\":[[0.0,\"#0d0887\"],[0.1111111111111111,\"#46039f\"],[0.2222222222222222,\"#7201a8\"],[0.3333333333333333,\"#9c179e\"],[0.4444444444444444,\"#bd3786\"],[0.5555555555555556,\"#d8576b\"],[0.6666666666666666,\"#ed7953\"],[0.7777777777777778,\"#fb9f3a\"],[0.8888888888888888,\"#fdca26\"],[1.0,\"#f0f921\"]]}],\"choropleth\":[{\"type\":\"choropleth\",\"colorbar\":{\"outlinewidth\":0,\"ticks\":\"\"}}],\"histogram2d\":[{\"type\":\"histogram2d\",\"colorbar\":{\"outlinewidth\":0,\"ticks\":\"\"},\"colorscale\":[[0.0,\"#0d0887\"],[0.1111111111111111,\"#46039f\"],[0.2222222222222222,\"#7201a8\"],[0.3333333333333333,\"#9c179e\"],[0.4444444444444444,\"#bd3786\"],[0.5555555555555556,\"#d8576b\"],[0.6666666666666666,\"#ed7953\"],[0.7777777777777778,\"#fb9f3a\"],[0.8888888888888888,\"#fdca26\"],[1.0,\"#f0f921\"]]}],\"heatmap\":[{\"type\":\"heatmap\",\"colorbar\":{\"outlinewidth\":0,\"ticks\":\"\"},\"colorscale\":[[0.0,\"#0d0887\"],[0.1111111111111111,\"#46039f\"],[0.2222222222222222,\"#7201a8\"],[0.3333333333333333,\"#9c179e\"],[0.4444444444444444,\"#bd3786\"],[0.5555555555555556,\"#d8576b\"],[0.6666666666666666,\"#ed7953\"],[0.7777777777777778,\"#fb9f3a\"],[0.8888888888888888,\"#fdca26\"],[1.0,\"#f0f921\"]]}],\"heatmapgl\":[{\"type\":\"heatmapgl\",\"colorbar\":{\"outlinewidth\":0,\"ticks\":\"\"},\"colorscale\":[[0.0,\"#0d0887\"],[0.1111111111111111,\"#46039f\"],[0.2222222222222222,\"#7201a8\"],[0.3333333333333333,\"#9c179e\"],[0.4444444444444444,\"#bd3786\"],[0.5555555555555556,\"#d8576b\"],[0.6666666666666666,\"#ed7953\"],[0.7777777777777778,\"#fb9f3a\"],[0.8888888888888888,\"#fdca26\"],[1.0,\"#f0f921\"]]}],\"contourcarpet\":[{\"type\":\"contourcarpet\",\"colorbar\":{\"outlinewidth\":0,\"ticks\":\"\"}}],\"contour\":[{\"type\":\"contour\",\"colorbar\":{\"outlinewidth\":0,\"ticks\":\"\"},\"colorscale\":[[0.0,\"#0d0887\"],[0.1111111111111111,\"#46039f\"],[0.2222222222222222,\"#7201a8\"],[0.3333333333333333,\"#9c179e\"],[0.4444444444444444,\"#bd3786\"],[0.5555555555555556,\"#d8576b\"],[0.6666666666666666,\"#ed7953\"],[0.7777777777777778,\"#fb9f3a\"],[0.8888888888888888,\"#fdca26\"],[1.0,\"#f0f921\"]]}],\"surface\":[{\"type\":\"surface\",\"colorbar\":{\"outlinewidth\":0,\"ticks\":\"\"},\"colorscale\":[[0.0,\"#0d0887\"],[0.1111111111111111,\"#46039f\"],[0.2222222222222222,\"#7201a8\"],[0.3333333333333333,\"#9c179e\"],[0.4444444444444444,\"#bd3786\"],[0.5555555555555556,\"#d8576b\"],[0.6666666666666666,\"#ed7953\"],[0.7777777777777778,\"#fb9f3a\"],[0.8888888888888888,\"#fdca26\"],[1.0,\"#f0f921\"]]}],\"mesh3d\":[{\"type\":\"mesh3d\",\"colorbar\":{\"outlinewidth\":0,\"ticks\":\"\"}}],\"scatter\":[{\"fillpattern\":{\"fillmode\":\"overlay\",\"size\":10,\"solidity\":0.2},\"type\":\"scatter\"}],\"parcoords\":[{\"type\":\"parcoords\",\"line\":{\"colorbar\":{\"outlinewidth\":0,\"ticks\":\"\"}}}],\"scatterpolargl\":[{\"type\":\"scatterpolargl\",\"marker\":{\"colorbar\":{\"outlinewidth\":0,\"ticks\":\"\"}}}],\"bar\":[{\"error_x\":{\"color\":\"#2a3f5f\"},\"error_y\":{\"color\":\"#2a3f5f\"},\"marker\":{\"line\":{\"color\":\"#E5ECF6\",\"width\":0.5},\"pattern\":{\"fillmode\":\"overlay\",\"size\":10,\"solidity\":0.2}},\"type\":\"bar\"}],\"scattergeo\":[{\"type\":\"scattergeo\",\"marker\":{\"colorbar\":{\"outlinewidth\":0,\"ticks\":\"\"}}}],\"scatterpolar\":[{\"type\":\"scatterpolar\",\"marker\":{\"colorbar\":{\"outlinewidth\":0,\"ticks\":\"\"}}}],\"histogram\":[{\"marker\":{\"pattern\":{\"fillmode\":\"overlay\",\"size\":10,\"solidity\":0.2}},\"type\":\"histogram\"}],\"scattergl\":[{\"type\":\"scattergl\",\"marker\":{\"colorbar\":{\"outlinewidth\":0,\"ticks\":\"\"}}}],\"scatter3d\":[{\"type\":\"scatter3d\",\"line\":{\"colorbar\":{\"outlinewidth\":0,\"ticks\":\"\"}},\"marker\":{\"colorbar\":{\"outlinewidth\":0,\"ticks\":\"\"}}}],\"scattermapbox\":[{\"type\":\"scattermapbox\",\"marker\":{\"colorbar\":{\"outlinewidth\":0,\"ticks\":\"\"}}}],\"scatterternary\":[{\"type\":\"scatterternary\",\"marker\":{\"colorbar\":{\"outlinewidth\":0,\"ticks\":\"\"}}}],\"scattercarpet\":[{\"type\":\"scattercarpet\",\"marker\":{\"colorbar\":{\"outlinewidth\":0,\"ticks\":\"\"}}}],\"carpet\":[{\"aaxis\":{\"endlinecolor\":\"#2a3f5f\",\"gridcolor\":\"white\",\"linecolor\":\"white\",\"minorgridcolor\":\"white\",\"startlinecolor\":\"#2a3f5f\"},\"baxis\":{\"endlinecolor\":\"#2a3f5f\",\"gridcolor\":\"white\",\"linecolor\":\"white\",\"minorgridcolor\":\"white\",\"startlinecolor\":\"#2a3f5f\"},\"type\":\"carpet\"}],\"table\":[{\"cells\":{\"fill\":{\"color\":\"#EBF0F8\"},\"line\":{\"color\":\"white\"}},\"header\":{\"fill\":{\"color\":\"#C8D4E3\"},\"line\":{\"color\":\"white\"}},\"type\":\"table\"}],\"barpolar\":[{\"marker\":{\"line\":{\"color\":\"#E5ECF6\",\"width\":0.5},\"pattern\":{\"fillmode\":\"overlay\",\"size\":10,\"solidity\":0.2}},\"type\":\"barpolar\"}],\"pie\":[{\"automargin\":true,\"type\":\"pie\"}]},\"layout\":{\"autotypenumbers\":\"strict\",\"colorway\":[\"#636efa\",\"#EF553B\",\"#00cc96\",\"#ab63fa\",\"#FFA15A\",\"#19d3f3\",\"#FF6692\",\"#B6E880\",\"#FF97FF\",\"#FECB52\"],\"font\":{\"color\":\"#2a3f5f\"},\"hovermode\":\"closest\",\"hoverlabel\":{\"align\":\"left\"},\"paper_bgcolor\":\"white\",\"plot_bgcolor\":\"#E5ECF6\",\"polar\":{\"bgcolor\":\"#E5ECF6\",\"angularaxis\":{\"gridcolor\":\"white\",\"linecolor\":\"white\",\"ticks\":\"\"},\"radialaxis\":{\"gridcolor\":\"white\",\"linecolor\":\"white\",\"ticks\":\"\"}},\"ternary\":{\"bgcolor\":\"#E5ECF6\",\"aaxis\":{\"gridcolor\":\"white\",\"linecolor\":\"white\",\"ticks\":\"\"},\"baxis\":{\"gridcolor\":\"white\",\"linecolor\":\"white\",\"ticks\":\"\"},\"caxis\":{\"gridcolor\":\"white\",\"linecolor\":\"white\",\"ticks\":\"\"}},\"coloraxis\":{\"colorbar\":{\"outlinewidth\":0,\"ticks\":\"\"}},\"colorscale\":{\"sequential\":[[0.0,\"#0d0887\"],[0.1111111111111111,\"#46039f\"],[0.2222222222222222,\"#7201a8\"],[0.3333333333333333,\"#9c179e\"],[0.4444444444444444,\"#bd3786\"],[0.5555555555555556,\"#d8576b\"],[0.6666666666666666,\"#ed7953\"],[0.7777777777777778,\"#fb9f3a\"],[0.8888888888888888,\"#fdca26\"],[1.0,\"#f0f921\"]],\"sequentialminus\":[[0.0,\"#0d0887\"],[0.1111111111111111,\"#46039f\"],[0.2222222222222222,\"#7201a8\"],[0.3333333333333333,\"#9c179e\"],[0.4444444444444444,\"#bd3786\"],[0.5555555555555556,\"#d8576b\"],[0.6666666666666666,\"#ed7953\"],[0.7777777777777778,\"#fb9f3a\"],[0.8888888888888888,\"#fdca26\"],[1.0,\"#f0f921\"]],\"diverging\":[[0,\"#8e0152\"],[0.1,\"#c51b7d\"],[0.2,\"#de77ae\"],[0.3,\"#f1b6da\"],[0.4,\"#fde0ef\"],[0.5,\"#f7f7f7\"],[0.6,\"#e6f5d0\"],[0.7,\"#b8e186\"],[0.8,\"#7fbc41\"],[0.9,\"#4d9221\"],[1,\"#276419\"]]},\"xaxis\":{\"gridcolor\":\"white\",\"linecolor\":\"white\",\"ticks\":\"\",\"title\":{\"standoff\":15},\"zerolinecolor\":\"white\",\"automargin\":true,\"zerolinewidth\":2},\"yaxis\":{\"gridcolor\":\"white\",\"linecolor\":\"white\",\"ticks\":\"\",\"title\":{\"standoff\":15},\"zerolinecolor\":\"white\",\"automargin\":true,\"zerolinewidth\":2},\"scene\":{\"xaxis\":{\"backgroundcolor\":\"#E5ECF6\",\"gridcolor\":\"white\",\"linecolor\":\"white\",\"showbackground\":true,\"ticks\":\"\",\"zerolinecolor\":\"white\",\"gridwidth\":2},\"yaxis\":{\"backgroundcolor\":\"#E5ECF6\",\"gridcolor\":\"white\",\"linecolor\":\"white\",\"showbackground\":true,\"ticks\":\"\",\"zerolinecolor\":\"white\",\"gridwidth\":2},\"zaxis\":{\"backgroundcolor\":\"#E5ECF6\",\"gridcolor\":\"white\",\"linecolor\":\"white\",\"showbackground\":true,\"ticks\":\"\",\"zerolinecolor\":\"white\",\"gridwidth\":2}},\"shapedefaults\":{\"line\":{\"color\":\"#2a3f5f\"}},\"annotationdefaults\":{\"arrowcolor\":\"#2a3f5f\",\"arrowhead\":0,\"arrowwidth\":1},\"geo\":{\"bgcolor\":\"white\",\"landcolor\":\"#E5ECF6\",\"subunitcolor\":\"white\",\"showland\":true,\"showlakes\":true,\"lakecolor\":\"white\"},\"title\":{\"x\":0.05},\"mapbox\":{\"style\":\"light\"}}},\"title\":{\"text\":\"Fruit Quantities\"},\"xaxis\":{\"title\":{\"text\":\"Fruit\"}},\"yaxis\":{\"title\":{\"text\":\"Quantity\"}}},                        {\"responsive\": true}                    ).then(function(){\n",
              "                            \n",
              "var gd = document.getElementById('4cb7f285-9edb-481c-af14-192b8f41b8b5');\n",
              "var x = new MutationObserver(function (mutations, observer) {{\n",
              "        var display = window.getComputedStyle(gd).display;\n",
              "        if (!display || display === 'none') {{\n",
              "            console.log([gd, 'removed!']);\n",
              "            Plotly.purge(gd);\n",
              "            observer.disconnect();\n",
              "        }}\n",
              "}});\n",
              "\n",
              "// Listen for the removal of the full notebook cells\n",
              "var notebookContainer = gd.closest('#notebook-container');\n",
              "if (notebookContainer) {{\n",
              "    x.observe(notebookContainer, {childList: true});\n",
              "}}\n",
              "\n",
              "// Listen for the clearing of the current output cell\n",
              "var outputEl = gd.closest('.output');\n",
              "if (outputEl) {{\n",
              "    x.observe(outputEl, {childList: true});\n",
              "}}\n",
              "\n",
              "                        })                };                            </script>        </div>\n",
              "</body>\n",
              "</html>"
            ]
          },
          "metadata": {}
        }
      ]
    },
    {
      "cell_type": "markdown",
      "source": [
        "#6.Create a DataFrame and add a new column based on an existing column."
      ],
      "metadata": {
        "id": "xaVlQLgWxMn6"
      }
    },
    {
      "cell_type": "code",
      "source": [
        "import pandas as pd\n",
        "\n",
        "# Sample DataFrame\n",
        "df = pd.DataFrame({\n",
        "    'Event': ['Music', 'Poetry', 'Theatre', 'Comedy'],\n",
        "    'Cost': [10000, 5000, 15000, 2000]\n",
        "})\n",
        "\n",
        "# Add new column with 10% discount\n",
        "df['Discounted_Price'] = df['Cost'] * 0.9\n",
        "\n",
        "print(df)\n"
      ],
      "metadata": {
        "colab": {
          "base_uri": "https://localhost:8080/"
        },
        "id": "keXeOup7xaXC",
        "outputId": "2cd18d5d-92ca-4a4c-c4f7-577c7348b47a"
      },
      "execution_count": 7,
      "outputs": [
        {
          "output_type": "stream",
          "name": "stdout",
          "text": [
            "     Event   Cost  Discounted_Price\n",
            "0    Music  10000            9000.0\n",
            "1   Poetry   5000            4500.0\n",
            "2  Theatre  15000           13500.0\n",
            "3   Comedy   2000            1800.0\n"
          ]
        }
      ]
    },
    {
      "cell_type": "markdown",
      "source": [
        "#7.Write a program to perform element-wise multiplication of two NumPy arrays.\n",
        "\n",
        ""
      ],
      "metadata": {
        "id": "BdddPe_AxdBI"
      }
    },
    {
      "cell_type": "code",
      "source": [
        "import numpy as np\n",
        "\n",
        "# Define two arrays\n",
        "array1 = np.array([1, 2, 3, 4])\n",
        "array2 = np.array([5, 6, 7, 8])\n",
        "\n",
        "# Element-wise multiplication\n",
        "result = array1 * array2\n",
        "\n",
        "print(\"Result using * operator:\", result)\n"
      ],
      "metadata": {
        "colab": {
          "base_uri": "https://localhost:8080/"
        },
        "id": "KxURw3eTxmfE",
        "outputId": "3e0a3821-6c12-4da7-c38e-1b103af89839"
      },
      "execution_count": 8,
      "outputs": [
        {
          "output_type": "stream",
          "name": "stdout",
          "text": [
            "Result using * operator: [ 5 12 21 32]\n"
          ]
        }
      ]
    },
    {
      "cell_type": "markdown",
      "source": [
        "#8. Create a line plot with multiple lines using Matplotlib.\n",
        "\n"
      ],
      "metadata": {
        "id": "FwOo7VXfxpJw"
      }
    },
    {
      "cell_type": "code",
      "source": [
        "import matplotlib.pyplot as plt\n",
        "import numpy as np\n",
        "\n",
        "# Sample data\n",
        "x = np.linspace(0, 10, 100)\n",
        "y1 = np.sin(x)\n",
        "y2 = np.cos(x)\n",
        "y3 = np.tan(x)\n",
        "\n",
        "# Create the plot\n",
        "plt.figure(figsize=(8, 6))\n",
        "plt.plot(x, y1, label='sin(x)', color='blue')\n",
        "plt.plot(x, y2, label='cos(x)', color='green')\n",
        "plt.plot(x, y3, label='tan(x)', color='red')\n",
        "\n",
        "# Add labels and title\n",
        "plt.xlabel('X-axis')\n",
        "plt.ylabel('Y-axis')\n",
        "plt.title('Multiple Line Plot')\n",
        "\n",
        "# Add a legend\n",
        "plt.legend()\n",
        "\n",
        "# Display the plot\n",
        "plt.grid(True)\n",
        "plt.show()\n"
      ],
      "metadata": {
        "colab": {
          "base_uri": "https://localhost:8080/",
          "height": 564
        },
        "id": "KvWLzZYgx2zV",
        "outputId": "5c6be0fa-27ee-4c4f-e08d-d1824e751245"
      },
      "execution_count": 9,
      "outputs": [
        {
          "output_type": "display_data",
          "data": {
            "text/plain": [
              "<Figure size 800x600 with 1 Axes>"
            ],
            "image/png": "[encoded data removed]"
          },
          "metadata": {}
        }
      ]
    },
    {
      "cell_type": "markdown",
      "source": [
        "#9.Generate a Pandas DataFrame and filter rows where a column value is greater than a threshold.\n"
      ],
      "metadata": {
        "id": "yZffjc2Sx5Fe"
      }
    },
    {
      "cell_type": "code",
      "source": [
        "import pandas as pd\n",
        "\n",
        "# Sample DataFrame\n",
        "data = {\n",
        "    'Name': ['Alice', 'Bob', 'Charlie', 'David'],\n",
        "    'Age': [25, 32, 45, 28],\n",
        "    'Score': [85, 90, 78, 88]\n",
        "}\n",
        "\n",
        "df = pd.DataFrame(data)\n",
        "\n",
        "# Define the threshold\n",
        "age_threshold = 30\n",
        "\n",
        "# Filter rows where 'Age' is greater than the threshold\n",
        "filtered_df = df[df['Age'] > age_threshold]\n",
        "\n",
        "print(filtered_df)\n"
      ],
      "metadata": {
        "colab": {
          "base_uri": "https://localhost:8080/"
        },
        "id": "A1zkiMJXyC3q",
        "outputId": "800e6e4d-a2a9-4927-dc31-76e3b555f89e"
      },
      "execution_count": 10,
      "outputs": [
        {
          "output_type": "stream",
          "name": "stdout",
          "text": [
            "      Name  Age  Score\n",
            "1      Bob   32     90\n",
            "2  Charlie   45     78\n"
          ]
        }
      ]
    },
    {
      "cell_type": "markdown",
      "source": [
        "#10. Create a histogram using Seaborn to visualize a distribution.\n",
        "\n"
      ],
      "metadata": {
        "id": "HzHNQJH7yFCk"
      }
    },
    {
      "cell_type": "code",
      "source": [
        "import seaborn as sns\n",
        "import matplotlib.pyplot as plt\n",
        "\n",
        "# Load a sample dataset\n",
        "df = sns.load_dataset(\"iris\")\n",
        "\n",
        "# Create a histogram for the 'sepal_length' column\n",
        "sns.histplot(df['sepal_length'], kde=True, color='skyblue', bins=20)\n",
        "\n",
        "# Add labels and title\n",
        "plt.xlabel('Sepal Length (cm)')\n",
        "plt.ylabel('Frequency')\n",
        "plt.title('Distribution of Sepal Length')\n",
        "\n",
        "# Display the plot\n",
        "plt.show()\n"
      ],
      "metadata": {
        "colab": {
          "base_uri": "https://localhost:8080/",
          "height": 472
        },
        "id": "189cnWXLyQ8f",
        "outputId": "9c2cdf5c-45e0-4b57-96a5-69ef0d910b2f"
      },
      "execution_count": 11,
      "outputs": [
        {
          "output_type": "display_data",
          "data": {
            "text/plain": [
              "<Figure size 640x480 with 1 Axes>"
            ],
            "image/png": "[encoded data removed]"
          },
          "metadata": {}
        }
      ]
    },
    {
      "cell_type": "markdown",
      "source": [
        "#11. Perform matrix multiplication using NumPy.\n"
      ],
      "metadata": {
        "id": "HJN13GEpyTRd"
      }
    },
    {
      "cell_type": "code",
      "source": [
        "import numpy as np\n",
        "\n",
        "# Define two 2x2 matrices\n",
        "A = np.array([[1, 2],\n",
        "              [3, 4]])\n",
        "\n",
        "B = np.array([[5, 6],\n",
        "              [7, 8]])\n",
        "\n",
        "# Perform matrix multiplication\n",
        "C = np.matmul(A, B)\n",
        "\n",
        "print(\"Matrix A:\")\n",
        "print(A)\n",
        "print(\"\\nMatrix B:\")\n",
        "print(B)\n",
        "print(\"\\nMatrix C (A * B):\")\n",
        "print(C)\n"
      ],
      "metadata": {
        "colab": {
          "base_uri": "https://localhost:8080/"
        },
        "id": "IhuZp-zeydMj",
        "outputId": "aa225665-b360-43e5-814a-e86eb0f4d0cc"
      },
      "execution_count": 12,
      "outputs": [
        {
          "output_type": "stream",
          "name": "stdout",
          "text": [
            "Matrix A:\n",
            "[[1 2]\n",
            " [3 4]]\n",
            "\n",
            "Matrix B:\n",
            "[[5 6]\n",
            " [7 8]]\n",
            "\n",
            "Matrix C (A * B):\n",
            "[[19 22]\n",
            " [43 50]]\n"
          ]
        }
      ]
    },
    {
      "cell_type": "markdown",
      "source": [
        "#12.Use Pandas to load a CSV file and display its first 5 rows."
      ],
      "metadata": {
        "id": "PbIFd3cKyfg4"
      }
    },
    {
      "cell_type": "code",
      "source": [
        "import pandas as pd\n",
        "\n",
        "# Load the CSV file into a DataFrame\n",
        "# Replace 'path_to_your_file.csv' with the actual path to your CSV file\n",
        "df = pd.read_csv('your_actual_file_name.csv')\n",
        "\n",
        "# Display the first 5 rows\n",
        "print(df.head())\n"
      ],
      "metadata": {
        "colab": {
          "base_uri": "https://localhost:8080/",
          "height": 371
        },
        "id": "FqFRF83Yyoyk",
        "outputId": "4e89886b-057b-479a-da38-71543cf0c088"
      },
      "execution_count": 14,
      "outputs": [
        {
          "output_type": "error",
          "ename": "FileNotFoundError",
          "evalue": "[Errno 2] No such file or directory: 'your_actual_file_name.csv'",
          "traceback": [
            "\u001b[0;31m---------------------------------------------------------------------------\u001b[0m",
            "\u001b[0;31mFileNotFoundError\u001b[0m                         Traceback (most recent call last)",
            "\u001b[0;32m<ipython-input-14-f940dbce404c>\u001b[0m in \u001b[0;36m<cell line: 0>\u001b[0;34m()\u001b[0m\n\u001b[1;32m      3\u001b[0m \u001b[0;31m# Load the CSV file into a DataFrame\u001b[0m\u001b[0;34m\u001b[0m\u001b[0;34m\u001b[0m\u001b[0m\n\u001b[1;32m      4\u001b[0m \u001b[0;31m# Replace 'path_to_your_file.csv' with the actual path to your CSV file\u001b[0m\u001b[0;34m\u001b[0m\u001b[0;34m\u001b[0m\u001b[0m\n\u001b[0;32m----> 5\u001b[0;31m \u001b[0mdf\u001b[0m \u001b[0;34m=\u001b[0m \u001b[0mpd\u001b[0m\u001b[0;34m.\u001b[0m\u001b[0mread_csv\u001b[0m\u001b[0;34m(\u001b[0m\u001b[0;34m'your_actual_file_name.csv'\u001b[0m\u001b[0;34m)\u001b[0m\u001b[0;34m\u001b[0m\u001b[0;34m\u001b[0m\u001b[0m\n\u001b[0m\u001b[1;32m      6\u001b[0m \u001b[0;34m\u001b[0m\u001b[0m\n\u001b[1;32m      7\u001b[0m \u001b[0;31m# Display the first 5 rows\u001b[0m\u001b[0;34m\u001b[0m\u001b[0;34m\u001b[0m\u001b[0m\n",
            "\u001b[0;32m/usr/local/lib/python3.11/dist-packages/pandas/io/parsers/readers.py\u001b[0m in \u001b[0;36mread_csv\u001b[0;34m(filepath_or_buffer, sep, delimiter, header, names, index_col, usecols, dtype, engine, converters, true_values, false_values, skipinitialspace, skiprows, skipfooter, nrows, na_values, keep_default_na, na_filter, verbose, skip_blank_lines, parse_dates, infer_datetime_format, keep_date_col, date_parser, date_format, dayfirst, cache_dates, iterator, chunksize, compression, thousands, decimal, lineterminator, quotechar, quoting, doublequote, escapechar, comment, encoding, encoding_errors, dialect, on_bad_lines, delim_whitespace, low_memory, memory_map, float_precision, storage_options, dtype_backend)\u001b[0m\n\u001b[1;32m   1024\u001b[0m     \u001b[0mkwds\u001b[0m\u001b[0;34m.\u001b[0m\u001b[0mupdate\u001b[0m\u001b[0;34m(\u001b[0m\u001b[0mkwds_defaults\u001b[0m\u001b[0;34m)\u001b[0m\u001b[0;34m\u001b[0m\u001b[0;34m\u001b[0m\u001b[0m\n\u001b[1;32m   1025\u001b[0m \u001b[0;34m\u001b[0m\u001b[0m\n\u001b[0;32m-> 1026\u001b[0;31m     \u001b[0;32mreturn\u001b[0m \u001b[0m_read\u001b[0m\u001b[0;34m(\u001b[0m\u001b[0mfilepath_or_buffer\u001b[0m\u001b[0;34m,\u001b[0m \u001b[0mkwds\u001b[0m\u001b[0;34m)\u001b[0m\u001b[0;34m\u001b[0m\u001b[0;34m\u001b[0m\u001b[0m\n\u001b[0m\u001b[1;32m   1027\u001b[0m \u001b[0;34m\u001b[0m\u001b[0m\n\u001b[1;32m   1028\u001b[0m \u001b[0;34m\u001b[0m\u001b[0m\n",
            "\u001b[0;32m/usr/local/lib/python3.11/dist-packages/pandas/io/parsers/readers.py\u001b[0m in \u001b[0;36m_read\u001b[0;34m(filepath_or_buffer, kwds)\u001b[0m\n\u001b[1;32m    618\u001b[0m \u001b[0;34m\u001b[0m\u001b[0m\n\u001b[1;32m    619\u001b[0m     \u001b[0;31m# Create the parser.\u001b[0m\u001b[0;34m\u001b[0m\u001b[0;34m\u001b[0m\u001b[0m\n\u001b[0;32m--> 620\u001b[0;31m     \u001b[0mparser\u001b[0m \u001b[0;34m=\u001b[0m \u001b[0mTextFileReader\u001b[0m\u001b[0;34m(\u001b[0m\u001b[0mfilepath_or_buffer\u001b[0m\u001b[0;34m,\u001b[0m \u001b[0;34m**\u001b[0m\u001b[0mkwds\u001b[0m\u001b[0;34m)\u001b[0m\u001b[0;34m\u001b[0m\u001b[0;34m\u001b[0m\u001b[0m\n\u001b[0m\u001b[1;32m    621\u001b[0m \u001b[0;34m\u001b[0m\u001b[0m\n\u001b[1;32m    622\u001b[0m     \u001b[0;32mif\u001b[0m \u001b[0mchunksize\u001b[0m \u001b[0;32mor\u001b[0m \u001b[0miterator\u001b[0m\u001b[0;34m:\u001b[0m\u001b[0;34m\u001b[0m\u001b[0;34m\u001b[0m\u001b[0m\n",
            "\u001b[0;32m/usr/local/lib/python3.11/dist-packages/pandas/io/parsers/readers.py\u001b[0m in \u001b[0;36m__init__\u001b[0;34m(self, f, engine, **kwds)\u001b[0m\n\u001b[1;32m   1618\u001b[0m \u001b[0;34m\u001b[0m\u001b[0m\n\u001b[1;32m   1619\u001b[0m         \u001b[0mself\u001b[0m\u001b[0;34m.\u001b[0m\u001b[0mhandles\u001b[0m\u001b[0;34m:\u001b[0m \u001b[0mIOHandles\u001b[0m \u001b[0;34m|\u001b[0m \u001b[0;32mNone\u001b[0m \u001b[0;34m=\u001b[0m \u001b[0;32mNone\u001b[0m\u001b[0;34m\u001b[0m\u001b[0;34m\u001b[0m\u001b[0m\n\u001b[0;32m-> 1620\u001b[0;31m         \u001b[0mself\u001b[0m\u001b[0;34m.\u001b[0m\u001b[0m_engine\u001b[0m \u001b[0;34m=\u001b[0m \u001b[0mself\u001b[0m\u001b[0;34m.\u001b[0m\u001b[0m_make_engine\u001b[0m\u001b[0;34m(\u001b[0m\u001b[0mf\u001b[0m\u001b[0;34m,\u001b[0m \u001b[0mself\u001b[0m\u001b[0;34m.\u001b[0m\u001b[0mengine\u001b[0m\u001b[0;34m)\u001b[0m\u001b[0;34m\u001b[0m\u001b[0;34m\u001b[0m\u001b[0m\n\u001b[0m\u001b[1;32m   1621\u001b[0m \u001b[0;34m\u001b[0m\u001b[0m\n\u001b[1;32m   1622\u001b[0m     \u001b[0;32mdef\u001b[0m \u001b[0mclose\u001b[0m\u001b[0;34m(\u001b[0m\u001b[0mself\u001b[0m\u001b[0;34m)\u001b[0m \u001b[0;34m->\u001b[0m \u001b[0;32mNone\u001b[0m\u001b[0;34m:\u001b[0m\u001b[0;34m\u001b[0m\u001b[0;34m\u001b[0m\u001b[0m\n",
            "\u001b[0;32m/usr/local/lib/python3.11/dist-packages/pandas/io/parsers/readers.py\u001b[0m in \u001b[0;36m_make_engine\u001b[0;34m(self, f, engine)\u001b[0m\n\u001b[1;32m   1878\u001b[0m                 \u001b[0;32mif\u001b[0m \u001b[0;34m\"b\"\u001b[0m \u001b[0;32mnot\u001b[0m \u001b[0;32min\u001b[0m \u001b[0mmode\u001b[0m\u001b[0;34m:\u001b[0m\u001b[0;34m\u001b[0m\u001b[0;34m\u001b[0m\u001b[0m\n\u001b[1;32m   1879\u001b[0m                     \u001b[0mmode\u001b[0m \u001b[0;34m+=\u001b[0m \u001b[0;34m\"b\"\u001b[0m\u001b[0;34m\u001b[0m\u001b[0;34m\u001b[0m\u001b[0m\n\u001b[0;32m-> 1880\u001b[0;31m             self.handles = get_handle(\n\u001b[0m\u001b[1;32m   1881\u001b[0m                 \u001b[0mf\u001b[0m\u001b[0;34m,\u001b[0m\u001b[0;34m\u001b[0m\u001b[0;34m\u001b[0m\u001b[0m\n\u001b[1;32m   1882\u001b[0m                 \u001b[0mmode\u001b[0m\u001b[0;34m,\u001b[0m\u001b[0;34m\u001b[0m\u001b[0;34m\u001b[0m\u001b[0m\n",
            "\u001b[0;32m/usr/local/lib/python3.11/dist-packages/pandas/io/common.py\u001b[0m in \u001b[0;36mget_handle\u001b[0;34m(path_or_buf, mode, encoding, compression, memory_map, is_text, errors, storage_options)\u001b[0m\n\u001b[1;32m    871\u001b[0m         \u001b[0;32mif\u001b[0m \u001b[0mioargs\u001b[0m\u001b[0;34m.\u001b[0m\u001b[0mencoding\u001b[0m \u001b[0;32mand\u001b[0m \u001b[0;34m\"b\"\u001b[0m \u001b[0;32mnot\u001b[0m \u001b[0;32min\u001b[0m \u001b[0mioargs\u001b[0m\u001b[0;34m.\u001b[0m\u001b[0mmode\u001b[0m\u001b[0;34m:\u001b[0m\u001b[0;34m\u001b[0m\u001b[0;34m\u001b[0m\u001b[0m\n\u001b[1;32m    872\u001b[0m             \u001b[0;31m# Encoding\u001b[0m\u001b[0;34m\u001b[0m\u001b[0;34m\u001b[0m\u001b[0m\n\u001b[0;32m--> 873\u001b[0;31m             handle = open(\n\u001b[0m\u001b[1;32m    874\u001b[0m                 \u001b[0mhandle\u001b[0m\u001b[0;34m,\u001b[0m\u001b[0;34m\u001b[0m\u001b[0;34m\u001b[0m\u001b[0m\n\u001b[1;32m    875\u001b[0m                 \u001b[0mioargs\u001b[0m\u001b[0;34m.\u001b[0m\u001b[0mmode\u001b[0m\u001b[0;34m,\u001b[0m\u001b[0;34m\u001b[0m\u001b[0;34m\u001b[0m\u001b[0m\n",
            "\u001b[0;31mFileNotFoundError\u001b[0m: [Errno 2] No such file or directory: 'your_actual_file_name.csv'"
          ]
        }
      ]
    },
    {
      "cell_type": "markdown",
      "source": [
        "#13.Create a 3D scatter plot using Plotly."
      ],
      "metadata": {
        "id": "GkBv47Umy8Rg"
      }
    },
    {
      "cell_type": "code",
      "source": [
        "import plotly.express as px\n",
        "\n",
        "# Load a sample dataset\n",
        "df = px.data.iris()\n",
        "\n",
        "# Create a 3D scatter plot\n",
        "fig = px.scatter_3d(df, x='sepal_length', y='sepal_width', z='petal_width', color='species')\n",
        "\n",
        "# Display the plot\n",
        "fig.show()\n"
      ],
      "metadata": {
        "colab": {
          "base_uri": "https://localhost:8080/",
          "height": 542
        },
        "id": "dvxLsP4xze3V",
        "outputId": "cfea82aa-6b82-4b83-814f-ee567c2b4fbc"
      },
      "execution_count": 15,
      "outputs": [
        {
          "output_type": "display_data",
          "data": {
            "text/html": [
              "<html>\n",
              "<head><meta charset=\"utf-8\" /></head>\n",
              "<body>\n",
              "    <div>            <script src=\"https://cdnjs.cloudflare.com/ajax/libs/mathjax/2.7.5/MathJax.js?config=TeX-AMS-MML_SVG\"></script><script type=\"text/javascript\">if (window.MathJax && window.MathJax.Hub && window.MathJax.Hub.Config) {window.MathJax.Hub.Config({SVG: {font: \"STIX-Web\"}});}</script>                <script type=\"text/javascript\">window.PlotlyConfig = {MathJaxConfig: 'local'};</script>\n",
              "        <script charset=\"utf-8\" src=\"https://cdn.plot.ly/plotly-2.35.2.min.js\"></script>                <div id=\"5dcfaac5-78a4-4ac7-8086-8e97481f5a06\" class=\"plotly-graph-div\" style=\"height:525px; width:100%;\"></div>            <script type=\"text/javascript\">                                    window.PLOTLYENV=window.PLOTLYENV || {};                                    if (document.getElementById(\"5dcfaac5-78a4-4ac7-8086-8e97481f5a06\")) {                    Plotly.newPlot(                        \"5dcfaac5-78a4-4ac7-8086-8e97481f5a06\",                        [{\"hovertemplate\":\"species=setosa\\u003cbr\\u003esepal_length=%{x}\\u003cbr\\u003esepal_width=%{y}\\u003cbr\\u003epetal_width=%{z}\\u003cextra\\u003e\\u003c\\u002fextra\\u003e\",\"legendgroup\":\"setosa\",\"marker\":{\"color\":\"#636efa\",\"symbol\":\"circle\"},\"mode\":\"markers\",\"name\":\"setosa\",\"scene\":\"scene\",\"showlegend\":true,\"x\":[5.1,4.9,4.7,4.6,5.0,5.4,4.6,5.0,4.4,4.9,5.4,4.8,4.8,4.3,5.8,5.7,5.4,5.1,5.7,5.1,5.4,5.1,4.6,5.1,4.8,5.0,5.0,5.2,5.2,4.7,4.8,5.4,5.2,5.5,4.9,5.0,5.5,4.9,4.4,5.1,5.0,4.5,4.4,5.0,5.1,4.8,5.1,4.6,5.3,5.0],\"y\":[3.5,3.0,3.2,3.1,3.6,3.9,3.4,3.4,2.9,3.1,3.7,3.4,3.0,3.0,4.0,4.4,3.9,3.5,3.8,3.8,3.4,3.7,3.6,3.3,3.4,3.0,3.4,3.5,3.4,3.2,3.1,3.4,4.1,4.2,3.1,3.2,3.5,3.1,3.0,3.4,3.5,2.3,3.2,3.5,3.8,3.0,3.8,3.2,3.7,3.3],\"z\":[0.2,0.2,0.2,0.2,0.2,0.4,0.3,0.2,0.2,0.1,0.2,0.2,0.1,0.1,0.2,0.4,0.4,0.3,0.3,0.3,0.2,0.4,0.2,0.5,0.2,0.2,0.4,0.2,0.2,0.2,0.2,0.4,0.1,0.2,0.1,0.2,0.2,0.1,0.2,0.2,0.3,0.3,0.2,0.6,0.4,0.3,0.2,0.2,0.2,0.2],\"type\":\"scatter3d\"},{\"hovertemplate\":\"species=versicolor\\u003cbr\\u003esepal_length=%{x}\\u003cbr\\u003esepal_width=%{y}\\u003cbr\\u003epetal_width=%{z}\\u003cextra\\u003e\\u003c\\u002fextra\\u003e\",\"legendgroup\":\"versicolor\",\"marker\":{\"color\":\"#EF553B\",\"symbol\":\"circle\"},\"mode\":\"markers\",\"name\":\"versicolor\",\"scene\":\"scene\",\"showlegend\":true,\"x\":[7.0,6.4,6.9,5.5,6.5,5.7,6.3,4.9,6.6,5.2,5.0,5.9,6.0,6.1,5.6,6.7,5.6,5.8,6.2,5.6,5.9,6.1,6.3,6.1,6.4,6.6,6.8,6.7,6.0,5.7,5.5,5.5,5.8,6.0,5.4,6.0,6.7,6.3,5.6,5.5,5.5,6.1,5.8,5.0,5.6,5.7,5.7,6.2,5.1,5.7],\"y\":[3.2,3.2,3.1,2.3,2.8,2.8,3.3,2.4,2.9,2.7,2.0,3.0,2.2,2.9,2.9,3.1,3.0,2.7,2.2,2.5,3.2,2.8,2.5,2.8,2.9,3.0,2.8,3.0,2.9,2.6,2.4,2.4,2.7,2.7,3.0,3.4,3.1,2.3,3.0,2.5,2.6,3.0,2.6,2.3,2.7,3.0,2.9,2.9,2.5,2.8],\"z\":[1.4,1.5,1.5,1.3,1.5,1.3,1.6,1.0,1.3,1.4,1.0,1.5,1.0,1.4,1.3,1.4,1.5,1.0,1.5,1.1,1.8,1.3,1.5,1.2,1.3,1.4,1.4,1.7,1.5,1.0,1.1,1.0,1.2,1.6,1.5,1.6,1.5,1.3,1.3,1.3,1.2,1.4,1.2,1.0,1.3,1.2,1.3,1.3,1.1,1.3],\"type\":\"scatter3d\"},{\"hovertemplate\":\"species=virginica\\u003cbr\\u003esepal_length=%{x}\\u003cbr\\u003esepal_width=%{y}\\u003cbr\\u003epetal_width=%{z}\\u003cextra\\u003e\\u003c\\u002fextra\\u003e\",\"legendgroup\":\"virginica\",\"marker\":{\"color\":\"#00cc96\",\"symbol\":\"circle\"},\"mode\":\"markers\",\"name\":\"virginica\",\"scene\":\"scene\",\"showlegend\":true,\"x\":[6.3,5.8,7.1,6.3,6.5,7.6,4.9,7.3,6.7,7.2,6.5,6.4,6.8,5.7,5.8,6.4,6.5,7.7,7.7,6.0,6.9,5.6,7.7,6.3,6.7,7.2,6.2,6.1,6.4,7.2,7.4,7.9,6.4,6.3,6.1,7.7,6.3,6.4,6.0,6.9,6.7,6.9,5.8,6.8,6.7,6.7,6.3,6.5,6.2,5.9],\"y\":[3.3,2.7,3.0,2.9,3.0,3.0,2.5,2.9,2.5,3.6,3.2,2.7,3.0,2.5,2.8,3.2,3.0,3.8,2.6,2.2,3.2,2.8,2.8,2.7,3.3,3.2,2.8,3.0,2.8,3.0,2.8,3.8,2.8,2.8,2.6,3.0,3.4,3.1,3.0,3.1,3.1,3.1,2.7,3.2,3.3,3.0,2.5,3.0,3.4,3.0],\"z\":[2.5,1.9,2.1,1.8,2.2,2.1,1.7,1.8,1.8,2.5,2.0,1.9,2.1,2.0,2.4,2.3,1.8,2.2,2.3,1.5,2.3,2.0,2.0,1.8,2.1,1.8,1.8,1.8,2.1,1.6,1.9,2.0,2.2,1.5,1.4,2.3,2.4,1.8,1.8,2.1,2.4,2.3,1.9,2.3,2.5,2.3,1.9,2.0,2.3,1.8],\"type\":\"scatter3d\"}],                        {\"template\":{\"data\":{\"histogram2dcontour\":[{\"type\":\"histogram2dcontour\",\"colorbar\":{\"outlinewidth\":0,\"ticks\":\"\"},\"colorscale\":[[0.0,\"#0d0887\"],[0.1111111111111111,\"#46039f\"],[0.2222222222222222,\"#7201a8\"],[0.3333333333333333,\"#9c179e\"],[0.4444444444444444,\"#bd3786\"],[0.5555555555555556,\"#d8576b\"],[0.6666666666666666,\"#ed7953\"],[0.7777777777777778,\"#fb9f3a\"],[0.8888888888888888,\"#fdca26\"],[1.0,\"#f0f921\"]]}],\"choropleth\":[{\"type\":\"choropleth\",\"colorbar\":{\"outlinewidth\":0,\"ticks\":\"\"}}],\"histogram2d\":[{\"type\":\"histogram2d\",\"colorbar\":{\"outlinewidth\":0,\"ticks\":\"\"},\"colorscale\":[[0.0,\"#0d0887\"],[0.1111111111111111,\"#46039f\"],[0.2222222222222222,\"#7201a8\"],[0.3333333333333333,\"#9c179e\"],[0.4444444444444444,\"#bd3786\"],[0.5555555555555556,\"#d8576b\"],[0.6666666666666666,\"#ed7953\"],[0.7777777777777778,\"#fb9f3a\"],[0.8888888888888888,\"#fdca26\"],[1.0,\"#f0f921\"]]}],\"heatmap\":[{\"type\":\"heatmap\",\"colorbar\":{\"outlinewidth\":0,\"ticks\":\"\"},\"colorscale\":[[0.0,\"#0d0887\"],[0.1111111111111111,\"#46039f\"],[0.2222222222222222,\"#7201a8\"],[0.3333333333333333,\"#9c179e\"],[0.4444444444444444,\"#bd3786\"],[0.5555555555555556,\"#d8576b\"],[0.6666666666666666,\"#ed7953\"],[0.7777777777777778,\"#fb9f3a\"],[0.8888888888888888,\"#fdca26\"],[1.0,\"#f0f921\"]]}],\"heatmapgl\":[{\"type\":\"heatmapgl\",\"colorbar\":{\"outlinewidth\":0,\"ticks\":\"\"},\"colorscale\":[[0.0,\"#0d0887\"],[0.1111111111111111,\"#46039f\"],[0.2222222222222222,\"#7201a8\"],[0.3333333333333333,\"#9c179e\"],[0.4444444444444444,\"#bd3786\"],[0.5555555555555556,\"#d8576b\"],[0.6666666666666666,\"#ed7953\"],[0.7777777777777778,\"#fb9f3a\"],[0.8888888888888888,\"#fdca26\"],[1.0,\"#f0f921\"]]}],\"contourcarpet\":[{\"type\":\"contourcarpet\",\"colorbar\":{\"outlinewidth\":0,\"ticks\":\"\"}}],\"contour\":[{\"type\":\"contour\",\"colorbar\":{\"outlinewidth\":0,\"ticks\":\"\"},\"colorscale\":[[0.0,\"#0d0887\"],[0.1111111111111111,\"#46039f\"],[0.2222222222222222,\"#7201a8\"],[0.3333333333333333,\"#9c179e\"],[0.4444444444444444,\"#bd3786\"],[0.5555555555555556,\"#d8576b\"],[0.6666666666666666,\"#ed7953\"],[0.7777777777777778,\"#fb9f3a\"],[0.8888888888888888,\"#fdca26\"],[1.0,\"#f0f921\"]]}],\"surface\":[{\"type\":\"surface\",\"colorbar\":{\"outlinewidth\":0,\"ticks\":\"\"},\"colorscale\":[[0.0,\"#0d0887\"],[0.1111111111111111,\"#46039f\"],[0.2222222222222222,\"#7201a8\"],[0.3333333333333333,\"#9c179e\"],[0.4444444444444444,\"#bd3786\"],[0.5555555555555556,\"#d8576b\"],[0.6666666666666666,\"#ed7953\"],[0.7777777777777778,\"#fb9f3a\"],[0.8888888888888888,\"#fdca26\"],[1.0,\"#f0f921\"]]}],\"mesh3d\":[{\"type\":\"mesh3d\",\"colorbar\":{\"outlinewidth\":0,\"ticks\":\"\"}}],\"scatter\":[{\"fillpattern\":{\"fillmode\":\"overlay\",\"size\":10,\"solidity\":0.2},\"type\":\"scatter\"}],\"parcoords\":[{\"type\":\"parcoords\",\"line\":{\"colorbar\":{\"outlinewidth\":0,\"ticks\":\"\"}}}],\"scatterpolargl\":[{\"type\":\"scatterpolargl\",\"marker\":{\"colorbar\":{\"outlinewidth\":0,\"ticks\":\"\"}}}],\"bar\":[{\"error_x\":{\"color\":\"#2a3f5f\"},\"error_y\":{\"color\":\"#2a3f5f\"},\"marker\":{\"line\":{\"color\":\"#E5ECF6\",\"width\":0.5},\"pattern\":{\"fillmode\":\"overlay\",\"size\":10,\"solidity\":0.2}},\"type\":\"bar\"}],\"scattergeo\":[{\"type\":\"scattergeo\",\"marker\":{\"colorbar\":{\"outlinewidth\":0,\"ticks\":\"\"}}}],\"scatterpolar\":[{\"type\":\"scatterpolar\",\"marker\":{\"colorbar\":{\"outlinewidth\":0,\"ticks\":\"\"}}}],\"histogram\":[{\"marker\":{\"pattern\":{\"fillmode\":\"overlay\",\"size\":10,\"solidity\":0.2}},\"type\":\"histogram\"}],\"scattergl\":[{\"type\":\"scattergl\",\"marker\":{\"colorbar\":{\"outlinewidth\":0,\"ticks\":\"\"}}}],\"scatter3d\":[{\"type\":\"scatter3d\",\"line\":{\"colorbar\":{\"outlinewidth\":0,\"ticks\":\"\"}},\"marker\":{\"colorbar\":{\"outlinewidth\":0,\"ticks\":\"\"}}}],\"scattermapbox\":[{\"type\":\"scattermapbox\",\"marker\":{\"colorbar\":{\"outlinewidth\":0,\"ticks\":\"\"}}}],\"scatterternary\":[{\"type\":\"scatterternary\",\"marker\":{\"colorbar\":{\"outlinewidth\":0,\"ticks\":\"\"}}}],\"scattercarpet\":[{\"type\":\"scattercarpet\",\"marker\":{\"colorbar\":{\"outlinewidth\":0,\"ticks\":\"\"}}}],\"carpet\":[{\"aaxis\":{\"endlinecolor\":\"#2a3f5f\",\"gridcolor\":\"white\",\"linecolor\":\"white\",\"minorgridcolor\":\"white\",\"startlinecolor\":\"#2a3f5f\"},\"baxis\":{\"endlinecolor\":\"#2a3f5f\",\"gridcolor\":\"white\",\"linecolor\":\"white\",\"minorgridcolor\":\"white\",\"startlinecolor\":\"#2a3f5f\"},\"type\":\"carpet\"}],\"table\":[{\"cells\":{\"fill\":{\"color\":\"#EBF0F8\"},\"line\":{\"color\":\"white\"}},\"header\":{\"fill\":{\"color\":\"#C8D4E3\"},\"line\":{\"color\":\"white\"}},\"type\":\"table\"}],\"barpolar\":[{\"marker\":{\"line\":{\"color\":\"#E5ECF6\",\"width\":0.5},\"pattern\":{\"fillmode\":\"overlay\",\"size\":10,\"solidity\":0.2}},\"type\":\"barpolar\"}],\"pie\":[{\"automargin\":true,\"type\":\"pie\"}]},\"layout\":{\"autotypenumbers\":\"strict\",\"colorway\":[\"#636efa\",\"#EF553B\",\"#00cc96\",\"#ab63fa\",\"#FFA15A\",\"#19d3f3\",\"#FF6692\",\"#B6E880\",\"#FF97FF\",\"#FECB52\"],\"font\":{\"color\":\"#2a3f5f\"},\"hovermode\":\"closest\",\"hoverlabel\":{\"align\":\"left\"},\"paper_bgcolor\":\"white\",\"plot_bgcolor\":\"#E5ECF6\",\"polar\":{\"bgcolor\":\"#E5ECF6\",\"angularaxis\":{\"gridcolor\":\"white\",\"linecolor\":\"white\",\"ticks\":\"\"},\"radialaxis\":{\"gridcolor\":\"white\",\"linecolor\":\"white\",\"ticks\":\"\"}},\"ternary\":{\"bgcolor\":\"#E5ECF6\",\"aaxis\":{\"gridcolor\":\"white\",\"linecolor\":\"white\",\"ticks\":\"\"},\"baxis\":{\"gridcolor\":\"white\",\"linecolor\":\"white\",\"ticks\":\"\"},\"caxis\":{\"gridcolor\":\"white\",\"linecolor\":\"white\",\"ticks\":\"\"}},\"coloraxis\":{\"colorbar\":{\"outlinewidth\":0,\"ticks\":\"\"}},\"colorscale\":{\"sequential\":[[0.0,\"#0d0887\"],[0.1111111111111111,\"#46039f\"],[0.2222222222222222,\"#7201a8\"],[0.3333333333333333,\"#9c179e\"],[0.4444444444444444,\"#bd3786\"],[0.5555555555555556,\"#d8576b\"],[0.6666666666666666,\"#ed7953\"],[0.7777777777777778,\"#fb9f3a\"],[0.8888888888888888,\"#fdca26\"],[1.0,\"#f0f921\"]],\"sequentialminus\":[[0.0,\"#0d0887\"],[0.1111111111111111,\"#46039f\"],[0.2222222222222222,\"#7201a8\"],[0.3333333333333333,\"#9c179e\"],[0.4444444444444444,\"#bd3786\"],[0.5555555555555556,\"#d8576b\"],[0.6666666666666666,\"#ed7953\"],[0.7777777777777778,\"#fb9f3a\"],[0.8888888888888888,\"#fdca26\"],[1.0,\"#f0f921\"]],\"diverging\":[[0,\"#8e0152\"],[0.1,\"#c51b7d\"],[0.2,\"#de77ae\"],[0.3,\"#f1b6da\"],[0.4,\"#fde0ef\"],[0.5,\"#f7f7f7\"],[0.6,\"#e6f5d0\"],[0.7,\"#b8e186\"],[0.8,\"#7fbc41\"],[0.9,\"#4d9221\"],[1,\"#276419\"]]},\"xaxis\":{\"gridcolor\":\"white\",\"linecolor\":\"white\",\"ticks\":\"\",\"title\":{\"standoff\":15},\"zerolinecolor\":\"white\",\"automargin\":true,\"zerolinewidth\":2},\"yaxis\":{\"gridcolor\":\"white\",\"linecolor\":\"white\",\"ticks\":\"\",\"title\":{\"standoff\":15},\"zerolinecolor\":\"white\",\"automargin\":true,\"zerolinewidth\":2},\"scene\":{\"xaxis\":{\"backgroundcolor\":\"#E5ECF6\",\"gridcolor\":\"white\",\"linecolor\":\"white\",\"showbackground\":true,\"ticks\":\"\",\"zerolinecolor\":\"white\",\"gridwidth\":2},\"yaxis\":{\"backgroundcolor\":\"#E5ECF6\",\"gridcolor\":\"white\",\"linecolor\":\"white\",\"showbackground\":true,\"ticks\":\"\",\"zerolinecolor\":\"white\",\"gridwidth\":2},\"zaxis\":{\"backgroundcolor\":\"#E5ECF6\",\"gridcolor\":\"white\",\"linecolor\":\"white\",\"showbackground\":true,\"ticks\":\"\",\"zerolinecolor\":\"white\",\"gridwidth\":2}},\"shapedefaults\":{\"line\":{\"color\":\"#2a3f5f\"}},\"annotationdefaults\":{\"arrowcolor\":\"#2a3f5f\",\"arrowhead\":0,\"arrowwidth\":1},\"geo\":{\"bgcolor\":\"white\",\"landcolor\":\"#E5ECF6\",\"subunitcolor\":\"white\",\"showland\":true,\"showlakes\":true,\"lakecolor\":\"white\"},\"title\":{\"x\":0.05},\"mapbox\":{\"style\":\"light\"}}},\"scene\":{\"domain\":{\"x\":[0.0,1.0],\"y\":[0.0,1.0]},\"xaxis\":{\"title\":{\"text\":\"sepal_length\"}},\"yaxis\":{\"title\":{\"text\":\"sepal_width\"}},\"zaxis\":{\"title\":{\"text\":\"petal_width\"}}},\"legend\":{\"title\":{\"text\":\"species\"},\"tracegroupgap\":0},\"margin\":{\"t\":60}},                        {\"responsive\": true}                    ).then(function(){\n",
              "                            \n",
              "var gd = document.getElementById('5dcfaac5-78a4-4ac7-8086-8e97481f5a06');\n",
              "var x = new MutationObserver(function (mutations, observer) {{\n",
              "        var display = window.getComputedStyle(gd).display;\n",
              "        if (!display || display === 'none') {{\n",
              "            console.log([gd, 'removed!']);\n",
              "            Plotly.purge(gd);\n",
              "            observer.disconnect();\n",
              "        }}\n",
              "}});\n",
              "\n",
              "// Listen for the removal of the full notebook cells\n",
              "var notebookContainer = gd.closest('#notebook-container');\n",
              "if (notebookContainer) {{\n",
              "    x.observe(notebookContainer, {childList: true});\n",
              "}}\n",
              "\n",
              "// Listen for the clearing of the current output cell\n",
              "var outputEl = gd.closest('.output');\n",
              "if (outputEl) {{\n",
              "    x.observe(outputEl, {childList: true});\n",
              "}}\n",
              "\n",
              "                        })                };                            </script>        </div>\n",
              "</body>\n",
              "</html>"
            ]
          },
          "metadata": {}
        }
      ]
    }
  ]
}